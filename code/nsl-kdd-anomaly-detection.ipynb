{
 "cells": [
  {
   "cell_type": "markdown",
   "metadata": {
    "papermill": {
     "duration": 0.017563,
     "end_time": "2020-11-30T19:57:40.159956",
     "exception": false,
     "start_time": "2020-11-30T19:57:40.142393",
     "status": "completed"
    },
    "tags": []
   },
   "source": [
    "# Exploring NSL-KDD dataset\n",
    "\n",
    "The purpose of this notebook is a basic exploration of the NSL-KDD dataset. Here are the goals of this exploration:\n",
    "* Gain a basic understanding of the data set\n",
    "* Look at how the data set might be used to predict network anomalies or attacks\n",
    "* Walk through some fundemental concepts of building machine learning models\n",
    "\n",
    "Throughout we'll do some work by hand that could be done in more effective ways using delivered functionality within sci-kit. The intent here is to be more deliberate about the process of understanding what we're doing and why. We will look at how to approach some of these problems using the built-in toools in a later notebook."
   ]
  },
  {
   "cell_type": "code",
   "execution_count": 1,
   "metadata": {
    "_cell_guid": "b1076dfc-b9ad-4769-8c92-a6c4dae69d19",
    "_uuid": "8f2839f25d086af736a60e9eeb907d3b93b6e0e5",
    "execution": {
     "iopub.execute_input": "2020-11-30T19:57:40.200598Z",
     "iopub.status.busy": "2020-11-30T19:57:40.199566Z",
     "iopub.status.idle": "2020-11-30T19:57:41.364713Z",
     "shell.execute_reply": "2020-11-30T19:57:41.365258Z"
    },
    "papermill": {
     "duration": 1.188882,
     "end_time": "2020-11-30T19:57:41.365437",
     "exception": false,
     "start_time": "2020-11-30T19:57:40.176555",
     "status": "completed"
    },
    "tags": []
   },
   "outputs": [
    {
     "name": "stdout",
     "output_type": "stream",
     "text": [
      "Welcome!\n"
     ]
    }
   ],
   "source": [
    "# module imports\n",
    "import numpy as np \n",
    "import pandas as pd \n",
    "import matplotlib.pyplot as plt\n",
    "import seaborn as sns\n",
    "import itertools\n",
    "import random\n",
    "\n",
    "# model imports\n",
    "from sklearn.ensemble import RandomForestClassifier\n",
    "from sklearn.neighbors import KNeighborsClassifier\n",
    "from sklearn.linear_model import LogisticRegression\n",
    "\n",
    "# processing imports\n",
    "from sklearn.preprocessing import LabelEncoder\n",
    "from sklearn.model_selection import train_test_split\n",
    "from sklearn.model_selection import cross_val_score\n",
    "from sklearn.metrics import mean_absolute_error\n",
    "from sklearn.metrics import accuracy_score\n",
    "from sklearn.metrics import confusion_matrix\n",
    "\n",
    "print('Welcome!')"
   ]
  },
  {
   "cell_type": "markdown",
   "metadata": {
    "papermill": {
     "duration": 0.016828,
     "end_time": "2020-11-30T19:57:41.400102",
     "exception": false,
     "start_time": "2020-11-30T19:57:41.383274",
     "status": "completed"
    },
    "tags": []
   },
   "source": [
    "# Data extraction\n",
    "We'll start by fetching our data set. There's a few options for data sets here, so we'll build a couple paths and use comments to pick and choose the ones we want."
   ]
  },
  {
   "cell_type": "code",
   "execution_count": 2,
   "metadata": {
    "_cell_guid": "79c7e3d0-c299-4dcb-8224-4455121ee9b0",
    "_uuid": "d629ff2d2480ee46fbb7e2d37f6b5fab8052498a",
    "execution": {
     "iopub.execute_input": "2020-11-30T19:57:41.444366Z",
     "iopub.status.busy": "2020-11-30T19:57:41.443698Z",
     "iopub.status.idle": "2020-11-30T19:57:42.039861Z",
     "shell.execute_reply": "2020-11-30T19:57:42.039199Z"
    },
    "papermill": {
     "duration": 0.621297,
     "end_time": "2020-11-30T19:57:42.039971",
     "exception": false,
     "start_time": "2020-11-30T19:57:41.418674",
     "status": "completed"
    },
    "tags": []
   },
   "outputs": [],
   "source": [
    "# fetch the training file\n",
    "file_path_20_percent = '/home/furkan/instrusion_detector_learning/nsl-kdd/KDDTrain+_20Percent.txt'\n",
    "file_path_full_training_set = '/home/furkan/instrusion_detector_learning/nsl-kdd/KDDTrain+.txt'\n",
    "file_path_test = '/home/furkan/instrusion_detector_learning/nsl-kdd/KDDTest+.txt'\n",
    "\n",
    "#df = pd.read_csv(file_path_20_percent)\n",
    "df = pd.read_csv(file_path_full_training_set)\n",
    "test_df = pd.read_csv(file_path_test)"
   ]
  },
  {
   "cell_type": "markdown",
   "metadata": {
    "papermill": {
     "duration": 0.016937,
     "end_time": "2020-11-30T19:57:42.074196",
     "exception": false,
     "start_time": "2020-11-30T19:57:42.057259",
     "status": "completed"
    },
    "tags": []
   },
   "source": [
    "The data set doesn't include column names, so let's add them."
   ]
  },
  {
   "cell_type": "code",
   "execution_count": 3,
   "metadata": {
    "execution": {
     "iopub.execute_input": "2020-11-30T19:57:42.134470Z",
     "iopub.status.busy": "2020-11-30T19:57:42.133794Z",
     "iopub.status.idle": "2020-11-30T19:57:42.147558Z",
     "shell.execute_reply": "2020-11-30T19:57:42.146920Z"
    },
    "papermill": {
     "duration": 0.05635,
     "end_time": "2020-11-30T19:57:42.147666",
     "exception": false,
     "start_time": "2020-11-30T19:57:42.091316",
     "status": "completed"
    },
    "tags": []
   },
   "outputs": [
    {
     "data": {
      "text/html": [
       "<div>\n",
       "<style scoped>\n",
       "    .dataframe tbody tr th:only-of-type {\n",
       "        vertical-align: middle;\n",
       "    }\n",
       "\n",
       "    .dataframe tbody tr th {\n",
       "        vertical-align: top;\n",
       "    }\n",
       "\n",
       "    .dataframe thead th {\n",
       "        text-align: right;\n",
       "    }\n",
       "</style>\n",
       "<table border=\"1\" class=\"dataframe\">\n",
       "  <thead>\n",
       "    <tr style=\"text-align: right;\">\n",
       "      <th></th>\n",
       "      <th>duration</th>\n",
       "      <th>protocol_type</th>\n",
       "      <th>service</th>\n",
       "      <th>flag</th>\n",
       "      <th>src_bytes</th>\n",
       "      <th>dst_bytes</th>\n",
       "      <th>land</th>\n",
       "      <th>wrong_fragment</th>\n",
       "      <th>urgent</th>\n",
       "      <th>hot</th>\n",
       "      <th>...</th>\n",
       "      <th>dst_host_same_srv_rate</th>\n",
       "      <th>dst_host_diff_srv_rate</th>\n",
       "      <th>dst_host_same_src_port_rate</th>\n",
       "      <th>dst_host_srv_diff_host_rate</th>\n",
       "      <th>dst_host_serror_rate</th>\n",
       "      <th>dst_host_srv_serror_rate</th>\n",
       "      <th>dst_host_rerror_rate</th>\n",
       "      <th>dst_host_srv_rerror_rate</th>\n",
       "      <th>attack</th>\n",
       "      <th>level</th>\n",
       "    </tr>\n",
       "  </thead>\n",
       "  <tbody>\n",
       "    <tr>\n",
       "      <th>0</th>\n",
       "      <td>0</td>\n",
       "      <td>udp</td>\n",
       "      <td>other</td>\n",
       "      <td>SF</td>\n",
       "      <td>146</td>\n",
       "      <td>0</td>\n",
       "      <td>0</td>\n",
       "      <td>0</td>\n",
       "      <td>0</td>\n",
       "      <td>0</td>\n",
       "      <td>...</td>\n",
       "      <td>0.00</td>\n",
       "      <td>0.60</td>\n",
       "      <td>0.88</td>\n",
       "      <td>0.00</td>\n",
       "      <td>0.00</td>\n",
       "      <td>0.00</td>\n",
       "      <td>0.0</td>\n",
       "      <td>0.00</td>\n",
       "      <td>normal</td>\n",
       "      <td>15</td>\n",
       "    </tr>\n",
       "    <tr>\n",
       "      <th>1</th>\n",
       "      <td>0</td>\n",
       "      <td>tcp</td>\n",
       "      <td>private</td>\n",
       "      <td>S0</td>\n",
       "      <td>0</td>\n",
       "      <td>0</td>\n",
       "      <td>0</td>\n",
       "      <td>0</td>\n",
       "      <td>0</td>\n",
       "      <td>0</td>\n",
       "      <td>...</td>\n",
       "      <td>0.10</td>\n",
       "      <td>0.05</td>\n",
       "      <td>0.00</td>\n",
       "      <td>0.00</td>\n",
       "      <td>1.00</td>\n",
       "      <td>1.00</td>\n",
       "      <td>0.0</td>\n",
       "      <td>0.00</td>\n",
       "      <td>neptune</td>\n",
       "      <td>19</td>\n",
       "    </tr>\n",
       "    <tr>\n",
       "      <th>2</th>\n",
       "      <td>0</td>\n",
       "      <td>tcp</td>\n",
       "      <td>http</td>\n",
       "      <td>SF</td>\n",
       "      <td>232</td>\n",
       "      <td>8153</td>\n",
       "      <td>0</td>\n",
       "      <td>0</td>\n",
       "      <td>0</td>\n",
       "      <td>0</td>\n",
       "      <td>...</td>\n",
       "      <td>1.00</td>\n",
       "      <td>0.00</td>\n",
       "      <td>0.03</td>\n",
       "      <td>0.04</td>\n",
       "      <td>0.03</td>\n",
       "      <td>0.01</td>\n",
       "      <td>0.0</td>\n",
       "      <td>0.01</td>\n",
       "      <td>normal</td>\n",
       "      <td>21</td>\n",
       "    </tr>\n",
       "    <tr>\n",
       "      <th>3</th>\n",
       "      <td>0</td>\n",
       "      <td>tcp</td>\n",
       "      <td>http</td>\n",
       "      <td>SF</td>\n",
       "      <td>199</td>\n",
       "      <td>420</td>\n",
       "      <td>0</td>\n",
       "      <td>0</td>\n",
       "      <td>0</td>\n",
       "      <td>0</td>\n",
       "      <td>...</td>\n",
       "      <td>1.00</td>\n",
       "      <td>0.00</td>\n",
       "      <td>0.00</td>\n",
       "      <td>0.00</td>\n",
       "      <td>0.00</td>\n",
       "      <td>0.00</td>\n",
       "      <td>0.0</td>\n",
       "      <td>0.00</td>\n",
       "      <td>normal</td>\n",
       "      <td>21</td>\n",
       "    </tr>\n",
       "    <tr>\n",
       "      <th>4</th>\n",
       "      <td>0</td>\n",
       "      <td>tcp</td>\n",
       "      <td>private</td>\n",
       "      <td>REJ</td>\n",
       "      <td>0</td>\n",
       "      <td>0</td>\n",
       "      <td>0</td>\n",
       "      <td>0</td>\n",
       "      <td>0</td>\n",
       "      <td>0</td>\n",
       "      <td>...</td>\n",
       "      <td>0.07</td>\n",
       "      <td>0.07</td>\n",
       "      <td>0.00</td>\n",
       "      <td>0.00</td>\n",
       "      <td>0.00</td>\n",
       "      <td>0.00</td>\n",
       "      <td>1.0</td>\n",
       "      <td>1.00</td>\n",
       "      <td>neptune</td>\n",
       "      <td>21</td>\n",
       "    </tr>\n",
       "  </tbody>\n",
       "</table>\n",
       "<p>5 rows × 43 columns</p>\n",
       "</div>"
      ],
      "text/plain": [
       "   duration protocol_type  service flag  src_bytes  dst_bytes  land  \\\n",
       "0         0           udp    other   SF        146          0     0   \n",
       "1         0           tcp  private   S0          0          0     0   \n",
       "2         0           tcp     http   SF        232       8153     0   \n",
       "3         0           tcp     http   SF        199        420     0   \n",
       "4         0           tcp  private  REJ          0          0     0   \n",
       "\n",
       "   wrong_fragment  urgent  hot  ...  dst_host_same_srv_rate  \\\n",
       "0               0       0    0  ...                    0.00   \n",
       "1               0       0    0  ...                    0.10   \n",
       "2               0       0    0  ...                    1.00   \n",
       "3               0       0    0  ...                    1.00   \n",
       "4               0       0    0  ...                    0.07   \n",
       "\n",
       "   dst_host_diff_srv_rate  dst_host_same_src_port_rate  \\\n",
       "0                    0.60                         0.88   \n",
       "1                    0.05                         0.00   \n",
       "2                    0.00                         0.03   \n",
       "3                    0.00                         0.00   \n",
       "4                    0.07                         0.00   \n",
       "\n",
       "   dst_host_srv_diff_host_rate  dst_host_serror_rate  \\\n",
       "0                         0.00                  0.00   \n",
       "1                         0.00                  1.00   \n",
       "2                         0.04                  0.03   \n",
       "3                         0.00                  0.00   \n",
       "4                         0.00                  0.00   \n",
       "\n",
       "   dst_host_srv_serror_rate  dst_host_rerror_rate  dst_host_srv_rerror_rate  \\\n",
       "0                      0.00                   0.0                      0.00   \n",
       "1                      1.00                   0.0                      0.00   \n",
       "2                      0.01                   0.0                      0.01   \n",
       "3                      0.00                   0.0                      0.00   \n",
       "4                      0.00                   1.0                      1.00   \n",
       "\n",
       "    attack  level  \n",
       "0   normal     15  \n",
       "1  neptune     19  \n",
       "2   normal     21  \n",
       "3   normal     21  \n",
       "4  neptune     21  \n",
       "\n",
       "[5 rows x 43 columns]"
      ]
     },
     "execution_count": 3,
     "metadata": {},
     "output_type": "execute_result"
    }
   ],
   "source": [
    "# add the column labels\n",
    "columns = (['duration'\n",
    ",'protocol_type'\n",
    ",'service'\n",
    ",'flag'\n",
    ",'src_bytes'\n",
    ",'dst_bytes'\n",
    ",'land'\n",
    ",'wrong_fragment'\n",
    ",'urgent'\n",
    ",'hot'\n",
    ",'num_failed_logins'\n",
    ",'logged_in'\n",
    ",'num_compromised'\n",
    ",'root_shell'\n",
    ",'su_attempted'\n",
    ",'num_root'\n",
    ",'num_file_creations'\n",
    ",'num_shells'\n",
    ",'num_access_files'\n",
    ",'num_outbound_cmds'\n",
    ",'is_host_login'\n",
    ",'is_guest_login'\n",
    ",'count'\n",
    ",'srv_count'\n",
    ",'serror_rate'\n",
    ",'srv_serror_rate'\n",
    ",'rerror_rate'\n",
    ",'srv_rerror_rate'\n",
    ",'same_srv_rate'\n",
    ",'diff_srv_rate'\n",
    ",'srv_diff_host_rate'\n",
    ",'dst_host_count'\n",
    ",'dst_host_srv_count'\n",
    ",'dst_host_same_srv_rate'\n",
    ",'dst_host_diff_srv_rate'\n",
    ",'dst_host_same_src_port_rate'\n",
    ",'dst_host_srv_diff_host_rate'\n",
    ",'dst_host_serror_rate'\n",
    ",'dst_host_srv_serror_rate'\n",
    ",'dst_host_rerror_rate'\n",
    ",'dst_host_srv_rerror_rate'\n",
    ",'attack'\n",
    ",'level'])\n",
    "\n",
    "df.columns = columns\n",
    "test_df.columns = columns\n",
    "\n",
    "# sanity check\n",
    "df.head()"
   ]
  },
  {
   "cell_type": "markdown",
   "metadata": {
    "papermill": {
     "duration": 0.017418,
     "end_time": "2020-11-30T19:57:42.182983",
     "exception": false,
     "start_time": "2020-11-30T19:57:42.165565",
     "status": "completed"
    },
    "tags": []
   },
   "source": [
    "# Data transformations\n",
    "The first transformations that we'll want to do are around the attack field. We'll start by adding a column that encodes 'normal' values as 0 and any other value as 1. We will use this as our classifier for a simple binary model that idenfities any attack. "
   ]
  },
  {
   "cell_type": "code",
   "execution_count": 4,
   "metadata": {
    "execution": {
     "iopub.execute_input": "2020-11-30T19:57:42.227386Z",
     "iopub.status.busy": "2020-11-30T19:57:42.226724Z",
     "iopub.status.idle": "2020-11-30T19:57:42.306400Z",
     "shell.execute_reply": "2020-11-30T19:57:42.305742Z"
    },
    "papermill": {
     "duration": 0.105749,
     "end_time": "2020-11-30T19:57:42.306508",
     "exception": false,
     "start_time": "2020-11-30T19:57:42.200759",
     "status": "completed"
    },
    "tags": []
   },
   "outputs": [
    {
     "data": {
      "text/html": [
       "<div>\n",
       "<style scoped>\n",
       "    .dataframe tbody tr th:only-of-type {\n",
       "        vertical-align: middle;\n",
       "    }\n",
       "\n",
       "    .dataframe tbody tr th {\n",
       "        vertical-align: top;\n",
       "    }\n",
       "\n",
       "    .dataframe thead th {\n",
       "        text-align: right;\n",
       "    }\n",
       "</style>\n",
       "<table border=\"1\" class=\"dataframe\">\n",
       "  <thead>\n",
       "    <tr style=\"text-align: right;\">\n",
       "      <th></th>\n",
       "      <th>duration</th>\n",
       "      <th>protocol_type</th>\n",
       "      <th>service</th>\n",
       "      <th>flag</th>\n",
       "      <th>src_bytes</th>\n",
       "      <th>dst_bytes</th>\n",
       "      <th>land</th>\n",
       "      <th>wrong_fragment</th>\n",
       "      <th>urgent</th>\n",
       "      <th>hot</th>\n",
       "      <th>...</th>\n",
       "      <th>dst_host_diff_srv_rate</th>\n",
       "      <th>dst_host_same_src_port_rate</th>\n",
       "      <th>dst_host_srv_diff_host_rate</th>\n",
       "      <th>dst_host_serror_rate</th>\n",
       "      <th>dst_host_srv_serror_rate</th>\n",
       "      <th>dst_host_rerror_rate</th>\n",
       "      <th>dst_host_srv_rerror_rate</th>\n",
       "      <th>attack</th>\n",
       "      <th>level</th>\n",
       "      <th>attack_flag</th>\n",
       "    </tr>\n",
       "  </thead>\n",
       "  <tbody>\n",
       "    <tr>\n",
       "      <th>0</th>\n",
       "      <td>0</td>\n",
       "      <td>udp</td>\n",
       "      <td>other</td>\n",
       "      <td>SF</td>\n",
       "      <td>146</td>\n",
       "      <td>0</td>\n",
       "      <td>0</td>\n",
       "      <td>0</td>\n",
       "      <td>0</td>\n",
       "      <td>0</td>\n",
       "      <td>...</td>\n",
       "      <td>0.60</td>\n",
       "      <td>0.88</td>\n",
       "      <td>0.00</td>\n",
       "      <td>0.00</td>\n",
       "      <td>0.00</td>\n",
       "      <td>0.0</td>\n",
       "      <td>0.00</td>\n",
       "      <td>normal</td>\n",
       "      <td>15</td>\n",
       "      <td>0</td>\n",
       "    </tr>\n",
       "    <tr>\n",
       "      <th>1</th>\n",
       "      <td>0</td>\n",
       "      <td>tcp</td>\n",
       "      <td>private</td>\n",
       "      <td>S0</td>\n",
       "      <td>0</td>\n",
       "      <td>0</td>\n",
       "      <td>0</td>\n",
       "      <td>0</td>\n",
       "      <td>0</td>\n",
       "      <td>0</td>\n",
       "      <td>...</td>\n",
       "      <td>0.05</td>\n",
       "      <td>0.00</td>\n",
       "      <td>0.00</td>\n",
       "      <td>1.00</td>\n",
       "      <td>1.00</td>\n",
       "      <td>0.0</td>\n",
       "      <td>0.00</td>\n",
       "      <td>neptune</td>\n",
       "      <td>19</td>\n",
       "      <td>1</td>\n",
       "    </tr>\n",
       "    <tr>\n",
       "      <th>2</th>\n",
       "      <td>0</td>\n",
       "      <td>tcp</td>\n",
       "      <td>http</td>\n",
       "      <td>SF</td>\n",
       "      <td>232</td>\n",
       "      <td>8153</td>\n",
       "      <td>0</td>\n",
       "      <td>0</td>\n",
       "      <td>0</td>\n",
       "      <td>0</td>\n",
       "      <td>...</td>\n",
       "      <td>0.00</td>\n",
       "      <td>0.03</td>\n",
       "      <td>0.04</td>\n",
       "      <td>0.03</td>\n",
       "      <td>0.01</td>\n",
       "      <td>0.0</td>\n",
       "      <td>0.01</td>\n",
       "      <td>normal</td>\n",
       "      <td>21</td>\n",
       "      <td>0</td>\n",
       "    </tr>\n",
       "    <tr>\n",
       "      <th>3</th>\n",
       "      <td>0</td>\n",
       "      <td>tcp</td>\n",
       "      <td>http</td>\n",
       "      <td>SF</td>\n",
       "      <td>199</td>\n",
       "      <td>420</td>\n",
       "      <td>0</td>\n",
       "      <td>0</td>\n",
       "      <td>0</td>\n",
       "      <td>0</td>\n",
       "      <td>...</td>\n",
       "      <td>0.00</td>\n",
       "      <td>0.00</td>\n",
       "      <td>0.00</td>\n",
       "      <td>0.00</td>\n",
       "      <td>0.00</td>\n",
       "      <td>0.0</td>\n",
       "      <td>0.00</td>\n",
       "      <td>normal</td>\n",
       "      <td>21</td>\n",
       "      <td>0</td>\n",
       "    </tr>\n",
       "    <tr>\n",
       "      <th>4</th>\n",
       "      <td>0</td>\n",
       "      <td>tcp</td>\n",
       "      <td>private</td>\n",
       "      <td>REJ</td>\n",
       "      <td>0</td>\n",
       "      <td>0</td>\n",
       "      <td>0</td>\n",
       "      <td>0</td>\n",
       "      <td>0</td>\n",
       "      <td>0</td>\n",
       "      <td>...</td>\n",
       "      <td>0.07</td>\n",
       "      <td>0.00</td>\n",
       "      <td>0.00</td>\n",
       "      <td>0.00</td>\n",
       "      <td>0.00</td>\n",
       "      <td>1.0</td>\n",
       "      <td>1.00</td>\n",
       "      <td>neptune</td>\n",
       "      <td>21</td>\n",
       "      <td>1</td>\n",
       "    </tr>\n",
       "  </tbody>\n",
       "</table>\n",
       "<p>5 rows × 44 columns</p>\n",
       "</div>"
      ],
      "text/plain": [
       "   duration protocol_type  service flag  src_bytes  dst_bytes  land  \\\n",
       "0         0           udp    other   SF        146          0     0   \n",
       "1         0           tcp  private   S0          0          0     0   \n",
       "2         0           tcp     http   SF        232       8153     0   \n",
       "3         0           tcp     http   SF        199        420     0   \n",
       "4         0           tcp  private  REJ          0          0     0   \n",
       "\n",
       "   wrong_fragment  urgent  hot  ...  dst_host_diff_srv_rate  \\\n",
       "0               0       0    0  ...                    0.60   \n",
       "1               0       0    0  ...                    0.05   \n",
       "2               0       0    0  ...                    0.00   \n",
       "3               0       0    0  ...                    0.00   \n",
       "4               0       0    0  ...                    0.07   \n",
       "\n",
       "   dst_host_same_src_port_rate  dst_host_srv_diff_host_rate  \\\n",
       "0                         0.88                         0.00   \n",
       "1                         0.00                         0.00   \n",
       "2                         0.03                         0.04   \n",
       "3                         0.00                         0.00   \n",
       "4                         0.00                         0.00   \n",
       "\n",
       "   dst_host_serror_rate  dst_host_srv_serror_rate  dst_host_rerror_rate  \\\n",
       "0                  0.00                      0.00                   0.0   \n",
       "1                  1.00                      1.00                   0.0   \n",
       "2                  0.03                      0.01                   0.0   \n",
       "3                  0.00                      0.00                   0.0   \n",
       "4                  0.00                      0.00                   1.0   \n",
       "\n",
       "   dst_host_srv_rerror_rate   attack  level  attack_flag  \n",
       "0                      0.00   normal     15            0  \n",
       "1                      0.00  neptune     19            1  \n",
       "2                      0.01   normal     21            0  \n",
       "3                      0.00   normal     21            0  \n",
       "4                      1.00  neptune     21            1  \n",
       "\n",
       "[5 rows x 44 columns]"
      ]
     },
     "execution_count": 4,
     "metadata": {},
     "output_type": "execute_result"
    }
   ],
   "source": [
    "# map normal to 0, all attacks to 1\n",
    "is_attack = df.attack.map(lambda a: 0 if a == 'normal' else 1)\n",
    "test_attack = test_df.attack.map(lambda a: 0 if a == 'normal' else 1)\n",
    "\n",
    "#data_with_attack = df.join(is_attack, rsuffix='_flag')\n",
    "df['attack_flag'] = is_attack\n",
    "test_df['attack_flag'] = test_attack\n",
    "\n",
    "# view the result\n",
    "df.head()"
   ]
  },
  {
   "cell_type": "code",
   "execution_count": 5,
   "metadata": {
    "execution": {
     "iopub.execute_input": "2020-11-30T19:57:42.348530Z",
     "iopub.status.busy": "2020-11-30T19:57:42.347576Z",
     "iopub.status.idle": "2020-11-30T19:57:42.351314Z",
     "shell.execute_reply": "2020-11-30T19:57:42.350754Z"
    },
    "papermill": {
     "duration": 0.026557,
     "end_time": "2020-11-30T19:57:42.351418",
     "exception": false,
     "start_time": "2020-11-30T19:57:42.324861",
     "status": "completed"
    },
    "tags": []
   },
   "outputs": [
    {
     "data": {
      "text/plain": [
       "(125972, 44)"
      ]
     },
     "execution_count": 5,
     "metadata": {},
     "output_type": "execute_result"
    }
   ],
   "source": [
    "np.shape(df)"
   ]
  },
  {
   "cell_type": "code",
   "execution_count": 6,
   "metadata": {
    "execution": {
     "iopub.execute_input": "2020-11-30T19:57:42.406060Z",
     "iopub.status.busy": "2020-11-30T19:57:42.405102Z",
     "iopub.status.idle": "2020-11-30T19:57:42.409256Z",
     "shell.execute_reply": "2020-11-30T19:57:42.408712Z"
    },
    "papermill": {
     "duration": 0.039165,
     "end_time": "2020-11-30T19:57:42.409385",
     "exception": false,
     "start_time": "2020-11-30T19:57:42.370220",
     "status": "completed"
    },
    "tags": []
   },
   "outputs": [
    {
     "data": {
      "text/plain": [
       "{'icmp', 'tcp', 'udp'}"
      ]
     },
     "execution_count": 6,
     "metadata": {},
     "output_type": "execute_result"
    }
   ],
   "source": [
    "set(df['protocol_type'])"
   ]
  },
  {
   "cell_type": "code",
   "execution_count": 7,
   "metadata": {
    "execution": {
     "iopub.execute_input": "2020-11-30T19:57:42.466447Z",
     "iopub.status.busy": "2020-11-30T19:57:42.465405Z",
     "iopub.status.idle": "2020-11-30T19:57:42.469619Z",
     "shell.execute_reply": "2020-11-30T19:57:42.469048Z"
    },
    "papermill": {
     "duration": 0.041112,
     "end_time": "2020-11-30T19:57:42.469729",
     "exception": false,
     "start_time": "2020-11-30T19:57:42.428617",
     "status": "completed"
    },
    "tags": []
   },
   "outputs": [
    {
     "data": {
      "text/plain": [
       "{'back',\n",
       " 'buffer_overflow',\n",
       " 'ftp_write',\n",
       " 'guess_passwd',\n",
       " 'imap',\n",
       " 'ipsweep',\n",
       " 'land',\n",
       " 'loadmodule',\n",
       " 'multihop',\n",
       " 'neptune',\n",
       " 'nmap',\n",
       " 'normal',\n",
       " 'perl',\n",
       " 'phf',\n",
       " 'pod',\n",
       " 'portsweep',\n",
       " 'rootkit',\n",
       " 'satan',\n",
       " 'smurf',\n",
       " 'spy',\n",
       " 'teardrop',\n",
       " 'warezclient',\n",
       " 'warezmaster'}"
      ]
     },
     "execution_count": 7,
     "metadata": {},
     "output_type": "execute_result"
    }
   ],
   "source": [
    "set(df['attack'])"
   ]
  },
  {
   "cell_type": "code",
   "execution_count": 8,
   "metadata": {
    "execution": {
     "iopub.execute_input": "2020-11-30T19:57:42.527501Z",
     "iopub.status.busy": "2020-11-30T19:57:42.526743Z",
     "iopub.status.idle": "2020-11-30T19:57:42.531228Z",
     "shell.execute_reply": "2020-11-30T19:57:42.530744Z"
    },
    "papermill": {
     "duration": 0.041809,
     "end_time": "2020-11-30T19:57:42.531342",
     "exception": false,
     "start_time": "2020-11-30T19:57:42.489533",
     "status": "completed"
    },
    "tags": []
   },
   "outputs": [
    {
     "data": {
      "text/plain": [
       "{'IRC',\n",
       " 'X11',\n",
       " 'Z39_50',\n",
       " 'aol',\n",
       " 'auth',\n",
       " 'bgp',\n",
       " 'courier',\n",
       " 'csnet_ns',\n",
       " 'ctf',\n",
       " 'daytime',\n",
       " 'discard',\n",
       " 'domain',\n",
       " 'domain_u',\n",
       " 'echo',\n",
       " 'eco_i',\n",
       " 'ecr_i',\n",
       " 'efs',\n",
       " 'exec',\n",
       " 'finger',\n",
       " 'ftp',\n",
       " 'ftp_data',\n",
       " 'gopher',\n",
       " 'harvest',\n",
       " 'hostnames',\n",
       " 'http',\n",
       " 'http_2784',\n",
       " 'http_443',\n",
       " 'http_8001',\n",
       " 'imap4',\n",
       " 'iso_tsap',\n",
       " 'klogin',\n",
       " 'kshell',\n",
       " 'ldap',\n",
       " 'link',\n",
       " 'login',\n",
       " 'mtp',\n",
       " 'name',\n",
       " 'netbios_dgm',\n",
       " 'netbios_ns',\n",
       " 'netbios_ssn',\n",
       " 'netstat',\n",
       " 'nnsp',\n",
       " 'nntp',\n",
       " 'ntp_u',\n",
       " 'other',\n",
       " 'pm_dump',\n",
       " 'pop_2',\n",
       " 'pop_3',\n",
       " 'printer',\n",
       " 'private',\n",
       " 'red_i',\n",
       " 'remote_job',\n",
       " 'rje',\n",
       " 'shell',\n",
       " 'smtp',\n",
       " 'sql_net',\n",
       " 'ssh',\n",
       " 'sunrpc',\n",
       " 'supdup',\n",
       " 'systat',\n",
       " 'telnet',\n",
       " 'tftp_u',\n",
       " 'tim_i',\n",
       " 'time',\n",
       " 'urh_i',\n",
       " 'urp_i',\n",
       " 'uucp',\n",
       " 'uucp_path',\n",
       " 'vmnet',\n",
       " 'whois'}"
      ]
     },
     "execution_count": 8,
     "metadata": {},
     "output_type": "execute_result"
    }
   ],
   "source": [
    "set(df['service'])"
   ]
  },
  {
   "cell_type": "markdown",
   "metadata": {
    "papermill": {
     "duration": 0.019786,
     "end_time": "2020-11-30T19:57:42.571315",
     "exception": false,
     "start_time": "2020-11-30T19:57:42.551529",
     "status": "completed"
    },
    "tags": []
   },
   "source": [
    "Next, we'll classify each of the attacks according to attack type for a more granular prediction model. \n",
    "* Denial of Service attacks:\n",
    "  * apache2\n",
    "  * back\n",
    "  * land\n",
    "  * neptune\n",
    "  * mailbomb\n",
    "  * pod\n",
    "  * processtable\n",
    "  * smurf\n",
    "  * teardrop\n",
    "  * udpstorm\n",
    "  * worm\n",
    "* Probe attacks:\n",
    "  * ipsweep\n",
    "  * mscan\n",
    "  * nmap\n",
    "  * portsweep\n",
    "  * saint\n",
    "  * satan\n",
    "* Privilege escalation attacks\n",
    "  * buffer_overflow\n",
    "  * loadmdoule\n",
    "  * perl\n",
    "  * ps\n",
    "  * rootkit\n",
    "  * sqlattack\n",
    "  * xterm\n",
    "* Remote access attacks\n",
    "  * ftp_write\n",
    "  * guess_passwd\n",
    "  * http_tunnel\n",
    "  * imap\n",
    "  * multihop\n",
    "  * named\n",
    "  * phf\n",
    "  * sendmail\n",
    "  * snmpgetattack\n",
    "  * snmpguess\n",
    "  * spy\n",
    "  * warezclient\n",
    "  * warezmaster\n",
    "  * xclock\n",
    "  * xsnoop"
   ]
  },
  {
   "cell_type": "code",
   "execution_count": 10,
   "metadata": {
    "execution": {
     "iopub.execute_input": "2020-11-30T19:57:42.621899Z",
     "iopub.status.busy": "2020-11-30T19:57:42.621232Z",
     "iopub.status.idle": "2020-11-30T19:57:42.760494Z",
     "shell.execute_reply": "2020-11-30T19:57:42.759840Z"
    },
    "papermill": {
     "duration": 0.169211,
     "end_time": "2020-11-30T19:57:42.760611",
     "exception": false,
     "start_time": "2020-11-30T19:57:42.591400",
     "status": "completed"
    },
    "tags": []
   },
   "outputs": [
    {
     "data": {
      "text/html": [
       "<div>\n",
       "<style scoped>\n",
       "    .dataframe tbody tr th:only-of-type {\n",
       "        vertical-align: middle;\n",
       "    }\n",
       "\n",
       "    .dataframe tbody tr th {\n",
       "        vertical-align: top;\n",
       "    }\n",
       "\n",
       "    .dataframe thead th {\n",
       "        text-align: right;\n",
       "    }\n",
       "</style>\n",
       "<table border=\"1\" class=\"dataframe\">\n",
       "  <thead>\n",
       "    <tr style=\"text-align: right;\">\n",
       "      <th></th>\n",
       "      <th>duration</th>\n",
       "      <th>protocol_type</th>\n",
       "      <th>service</th>\n",
       "      <th>flag</th>\n",
       "      <th>src_bytes</th>\n",
       "      <th>dst_bytes</th>\n",
       "      <th>land</th>\n",
       "      <th>wrong_fragment</th>\n",
       "      <th>urgent</th>\n",
       "      <th>hot</th>\n",
       "      <th>...</th>\n",
       "      <th>dst_host_same_src_port_rate</th>\n",
       "      <th>dst_host_srv_diff_host_rate</th>\n",
       "      <th>dst_host_serror_rate</th>\n",
       "      <th>dst_host_srv_serror_rate</th>\n",
       "      <th>dst_host_rerror_rate</th>\n",
       "      <th>dst_host_srv_rerror_rate</th>\n",
       "      <th>attack</th>\n",
       "      <th>level</th>\n",
       "      <th>attack_flag</th>\n",
       "      <th>attack_map</th>\n",
       "    </tr>\n",
       "  </thead>\n",
       "  <tbody>\n",
       "    <tr>\n",
       "      <th>0</th>\n",
       "      <td>0</td>\n",
       "      <td>udp</td>\n",
       "      <td>other</td>\n",
       "      <td>SF</td>\n",
       "      <td>146</td>\n",
       "      <td>0</td>\n",
       "      <td>0</td>\n",
       "      <td>0</td>\n",
       "      <td>0</td>\n",
       "      <td>0</td>\n",
       "      <td>...</td>\n",
       "      <td>0.88</td>\n",
       "      <td>0.00</td>\n",
       "      <td>0.00</td>\n",
       "      <td>0.00</td>\n",
       "      <td>0.0</td>\n",
       "      <td>0.00</td>\n",
       "      <td>normal</td>\n",
       "      <td>15</td>\n",
       "      <td>0</td>\n",
       "      <td>0</td>\n",
       "    </tr>\n",
       "    <tr>\n",
       "      <th>1</th>\n",
       "      <td>0</td>\n",
       "      <td>tcp</td>\n",
       "      <td>private</td>\n",
       "      <td>S0</td>\n",
       "      <td>0</td>\n",
       "      <td>0</td>\n",
       "      <td>0</td>\n",
       "      <td>0</td>\n",
       "      <td>0</td>\n",
       "      <td>0</td>\n",
       "      <td>...</td>\n",
       "      <td>0.00</td>\n",
       "      <td>0.00</td>\n",
       "      <td>1.00</td>\n",
       "      <td>1.00</td>\n",
       "      <td>0.0</td>\n",
       "      <td>0.00</td>\n",
       "      <td>neptune</td>\n",
       "      <td>19</td>\n",
       "      <td>1</td>\n",
       "      <td>1</td>\n",
       "    </tr>\n",
       "    <tr>\n",
       "      <th>2</th>\n",
       "      <td>0</td>\n",
       "      <td>tcp</td>\n",
       "      <td>http</td>\n",
       "      <td>SF</td>\n",
       "      <td>232</td>\n",
       "      <td>8153</td>\n",
       "      <td>0</td>\n",
       "      <td>0</td>\n",
       "      <td>0</td>\n",
       "      <td>0</td>\n",
       "      <td>...</td>\n",
       "      <td>0.03</td>\n",
       "      <td>0.04</td>\n",
       "      <td>0.03</td>\n",
       "      <td>0.01</td>\n",
       "      <td>0.0</td>\n",
       "      <td>0.01</td>\n",
       "      <td>normal</td>\n",
       "      <td>21</td>\n",
       "      <td>0</td>\n",
       "      <td>0</td>\n",
       "    </tr>\n",
       "    <tr>\n",
       "      <th>3</th>\n",
       "      <td>0</td>\n",
       "      <td>tcp</td>\n",
       "      <td>http</td>\n",
       "      <td>SF</td>\n",
       "      <td>199</td>\n",
       "      <td>420</td>\n",
       "      <td>0</td>\n",
       "      <td>0</td>\n",
       "      <td>0</td>\n",
       "      <td>0</td>\n",
       "      <td>...</td>\n",
       "      <td>0.00</td>\n",
       "      <td>0.00</td>\n",
       "      <td>0.00</td>\n",
       "      <td>0.00</td>\n",
       "      <td>0.0</td>\n",
       "      <td>0.00</td>\n",
       "      <td>normal</td>\n",
       "      <td>21</td>\n",
       "      <td>0</td>\n",
       "      <td>0</td>\n",
       "    </tr>\n",
       "    <tr>\n",
       "      <th>4</th>\n",
       "      <td>0</td>\n",
       "      <td>tcp</td>\n",
       "      <td>private</td>\n",
       "      <td>REJ</td>\n",
       "      <td>0</td>\n",
       "      <td>0</td>\n",
       "      <td>0</td>\n",
       "      <td>0</td>\n",
       "      <td>0</td>\n",
       "      <td>0</td>\n",
       "      <td>...</td>\n",
       "      <td>0.00</td>\n",
       "      <td>0.00</td>\n",
       "      <td>0.00</td>\n",
       "      <td>0.00</td>\n",
       "      <td>1.0</td>\n",
       "      <td>1.00</td>\n",
       "      <td>neptune</td>\n",
       "      <td>21</td>\n",
       "      <td>1</td>\n",
       "      <td>1</td>\n",
       "    </tr>\n",
       "  </tbody>\n",
       "</table>\n",
       "<p>5 rows × 45 columns</p>\n",
       "</div>"
      ],
      "text/plain": [
       "   duration protocol_type  service flag  src_bytes  dst_bytes  land  \\\n",
       "0         0           udp    other   SF        146          0     0   \n",
       "1         0           tcp  private   S0          0          0     0   \n",
       "2         0           tcp     http   SF        232       8153     0   \n",
       "3         0           tcp     http   SF        199        420     0   \n",
       "4         0           tcp  private  REJ          0          0     0   \n",
       "\n",
       "   wrong_fragment  urgent  hot  ...  dst_host_same_src_port_rate  \\\n",
       "0               0       0    0  ...                         0.88   \n",
       "1               0       0    0  ...                         0.00   \n",
       "2               0       0    0  ...                         0.03   \n",
       "3               0       0    0  ...                         0.00   \n",
       "4               0       0    0  ...                         0.00   \n",
       "\n",
       "   dst_host_srv_diff_host_rate  dst_host_serror_rate  \\\n",
       "0                         0.00                  0.00   \n",
       "1                         0.00                  1.00   \n",
       "2                         0.04                  0.03   \n",
       "3                         0.00                  0.00   \n",
       "4                         0.00                  0.00   \n",
       "\n",
       "   dst_host_srv_serror_rate  dst_host_rerror_rate  dst_host_srv_rerror_rate  \\\n",
       "0                      0.00                   0.0                      0.00   \n",
       "1                      1.00                   0.0                      0.00   \n",
       "2                      0.01                   0.0                      0.01   \n",
       "3                      0.00                   0.0                      0.00   \n",
       "4                      0.00                   1.0                      1.00   \n",
       "\n",
       "    attack  level  attack_flag  attack_map  \n",
       "0   normal     15            0           0  \n",
       "1  neptune     19            1           1  \n",
       "2   normal     21            0           0  \n",
       "3   normal     21            0           0  \n",
       "4  neptune     21            1           1  \n",
       "\n",
       "[5 rows x 45 columns]"
      ]
     },
     "execution_count": 10,
     "metadata": {},
     "output_type": "execute_result"
    }
   ],
   "source": [
    "# lists to hold our attack classifications\n",
    "dos_attacks = ['apache2','back','land','neptune','mailbomb','pod','processtable','smurf','teardrop','udpstorm','worm']\n",
    "probe_attacks = ['ipsweep','mscan','nmap','portsweep','saint','satan']\n",
    "privilege_attacks = ['buffer_overflow','loadmdoule','perl','ps','rootkit','sqlattack','xterm']\n",
    "access_attacks = ['ftp_write','guess_passwd','http_tunnel','imap','multihop','named','phf','sendmail','snmpgetattack','snmpguess','spy','warezclient','warezmaster','xclock','xsnoop']\n",
    "\n",
    "# we will use these for plotting below\n",
    "attack_labels = ['Normal','DoS','Probe','Privilege','Access']\n",
    "\n",
    "# helper function to pass to data frame mapping\n",
    "def map_attack(attack):\n",
    "    if attack in dos_attacks:\n",
    "        # dos_attacks map to 1\n",
    "        attack_type = 1\n",
    "    elif attack in probe_attacks:\n",
    "        # probe_attacks mapt to 2\n",
    "        attack_type = 2\n",
    "    elif attack in privilege_attacks:\n",
    "        # privilege escalation attacks map to 3\n",
    "        attack_type = 3\n",
    "    elif attack in access_attacks:\n",
    "        # remote access attacks map to 4\n",
    "        attack_type = 4\n",
    "    else:\n",
    "        # normal maps to 0\n",
    "        attack_type = 0\n",
    "        \n",
    "    return attack_type\n",
    "\n",
    "# map the data and join to the data set\n",
    "attack_map = df.attack.apply(map_attack)\n",
    "df['attack_map'] = attack_map\n",
    "\n",
    "test_attack_map = test_df.attack.apply(map_attack)\n",
    "test_df['attack_map'] = test_attack_map\n",
    "\n",
    "# view the result\n",
    "df.head()"
   ]
  },
  {
   "cell_type": "code",
   "execution_count": 11,
   "metadata": {
    "execution": {
     "iopub.execute_input": "2020-11-30T19:57:42.821960Z",
     "iopub.status.busy": "2020-11-30T19:57:42.821231Z",
     "iopub.status.idle": "2020-11-30T19:57:42.824973Z",
     "shell.execute_reply": "2020-11-30T19:57:42.825460Z"
    },
    "papermill": {
     "duration": 0.043364,
     "end_time": "2020-11-30T19:57:42.825607",
     "exception": false,
     "start_time": "2020-11-30T19:57:42.782243",
     "status": "completed"
    },
    "tags": []
   },
   "outputs": [
    {
     "data": {
      "text/plain": [
       "{0, 1, 2, 3, 4}"
      ]
     },
     "execution_count": 11,
     "metadata": {},
     "output_type": "execute_result"
    }
   ],
   "source": [
    "set(df['attack_map'])"
   ]
  },
  {
   "cell_type": "code",
   "execution_count": 13,
   "metadata": {
    "execution": {
     "iopub.execute_input": "2020-11-30T19:57:42.873392Z",
     "iopub.status.busy": "2020-11-30T19:57:42.872790Z",
     "iopub.status.idle": "2020-11-30T19:57:42.876095Z",
     "shell.execute_reply": "2020-11-30T19:57:42.875475Z"
    },
    "papermill": {
     "duration": 0.02833,
     "end_time": "2020-11-30T19:57:42.876202",
     "exception": false,
     "start_time": "2020-11-30T19:57:42.847872",
     "status": "completed"
    },
    "tags": []
   },
   "outputs": [],
   "source": [
    "# # get a series with the count of each flag for attack and normal traffic\n",
    "# normal_flags = df.loc[df.attack_flag == 0].flag.value_counts()\n",
    "# attack_flags = df.loc[df.attack_flag == 1].flag.value_counts()\n",
    "\n",
    "# # create the charts\n",
    "# flag_axs = bake_pies([normal_flags, attack_flags], ['normal','attack'])        \n",
    "# plt.show()"
   ]
  },
  {
   "cell_type": "markdown",
   "metadata": {
    "papermill": {
     "duration": 0.021806,
     "end_time": "2020-11-30T19:57:42.919415",
     "exception": false,
     "start_time": "2020-11-30T19:57:42.897609",
     "status": "completed"
    },
    "tags": []
   },
   "source": [
    "And service?"
   ]
  },
  {
   "cell_type": "code",
   "execution_count": 14,
   "metadata": {
    "execution": {
     "iopub.execute_input": "2020-11-30T19:57:42.966497Z",
     "iopub.status.busy": "2020-11-30T19:57:42.965833Z",
     "iopub.status.idle": "2020-11-30T19:57:42.968482Z",
     "shell.execute_reply": "2020-11-30T19:57:42.968919Z"
    },
    "papermill": {
     "duration": 0.028385,
     "end_time": "2020-11-30T19:57:42.969055",
     "exception": false,
     "start_time": "2020-11-30T19:57:42.940670",
     "status": "completed"
    },
    "tags": []
   },
   "outputs": [],
   "source": [
    "# # get a series with the count of each service for attack and normal traffic\n",
    "# normal_services = df.loc[df.attack_flag == 0].service.value_counts()\n",
    "# attack_services = df.loc[df.attack_flag == 1].service.value_counts()\n",
    "\n",
    "# # create the charts\n",
    "# service_axs = bake_pies([normal_services, attack_services], ['normal','attack'])        \n",
    "# plt.show()\n"
   ]
  },
  {
   "cell_type": "markdown",
   "metadata": {
    "papermill": {
     "duration": 0.021242,
     "end_time": "2020-11-30T19:57:43.011732",
     "exception": false,
     "start_time": "2020-11-30T19:57:42.990490",
     "status": "completed"
    },
    "tags": []
   },
   "source": [
    "Wow! Look at how many services are in the attack set! Whereas a huge amount of normal traffic is http, our attack traffic is all over the place. That is interesting as it means that attacks are searching for many different paths into systems--some well traveled and some not. \n",
    "\n",
    "If we think about this from the eyes of a network adminstrator, the combination of protocol, flag and service seem like they should tell us a lot about the nature of our traffic. Coupling them with the duration of a connection and the amount of data in that connection seems like a good starting point for us."
   ]
  },
  {
   "cell_type": "markdown",
   "metadata": {
    "papermill": {
     "duration": 0.021001,
     "end_time": "2020-11-30T19:57:43.055236",
     "exception": false,
     "start_time": "2020-11-30T19:57:43.034235",
     "status": "completed"
    },
    "tags": []
   },
   "source": [
    "# Feature engineering"
   ]
  },
  {
   "cell_type": "markdown",
   "metadata": {
    "papermill": {
     "duration": 0.021069,
     "end_time": "2020-11-30T19:57:43.097617",
     "exception": false,
     "start_time": "2020-11-30T19:57:43.076548",
     "status": "completed"
    },
    "tags": []
   },
   "source": [
    "So let's dive into some feature building. It seems like that items above would make a good place to start: protocol_type, service and flag. There's enough variation between these that we should be able to get some base level of identification. We're also going to throw in some basic numeric data: duration, src_bytes, dst_bytes. All of these are going to be readily available from modern network equipment and should tell us a lot about what is happening on our network."
   ]
  },
  {
   "cell_type": "code",
   "execution_count": 15,
   "metadata": {
    "execution": {
     "iopub.execute_input": "2020-11-30T19:57:43.152776Z",
     "iopub.status.busy": "2020-11-30T19:57:43.151234Z",
     "iopub.status.idle": "2020-11-30T19:57:43.298742Z",
     "shell.execute_reply": "2020-11-30T19:57:43.298052Z"
    },
    "papermill": {
     "duration": 0.179716,
     "end_time": "2020-11-30T19:57:43.298861",
     "exception": false,
     "start_time": "2020-11-30T19:57:43.119145",
     "status": "completed"
    },
    "tags": []
   },
   "outputs": [],
   "source": [
    "# get the intial set of encoded features and encode them\n",
    "features_to_encode = ['protocol_type', 'service', 'flag']\n",
    "encoded = pd.get_dummies(df[features_to_encode])\n",
    "test_encoded_base = pd.get_dummies(test_df[features_to_encode])\n",
    "\n",
    "# not all of the features are in the test set, so we need to account for diffs\n",
    "test_index = np.arange(len(test_df.index))\n",
    "column_diffs = list(set(encoded.columns.values)-set(test_encoded_base.columns.values))\n",
    "\n",
    "diff_df = pd.DataFrame(0, index=test_index, columns=column_diffs)\n",
    "\n",
    "# we'll also need to reorder the columns to match, so let's get those\n",
    "column_order = encoded.columns.to_list()\n",
    "\n",
    "# append the new columns\n",
    "test_encoded_temp = test_encoded_base.join(diff_df)\n",
    "\n",
    "# reorder the columns\n",
    "test_final = test_encoded_temp[column_order].fillna(0)\n",
    "\n",
    "# get numeric features, we won't worry about encoding these at this point\n",
    "numeric_features = ['duration', 'src_bytes', 'dst_bytes']\n",
    "\n",
    "# model to fit/test\n",
    "to_fit = encoded.join(df[numeric_features])\n",
    "test_set = test_final.join(test_df[numeric_features])"
   ]
  },
  {
   "cell_type": "markdown",
   "metadata": {
    "papermill": {
     "duration": 0.021493,
     "end_time": "2020-11-30T19:57:43.342426",
     "exception": false,
     "start_time": "2020-11-30T19:57:43.320933",
     "status": "completed"
    },
    "tags": []
   },
   "source": [
    "It's worth drawing attention to a few things here. First, `pd.get_dummies` is a method that allows us to do a quick one hot encoding on our columns. This takes every value it finds in a single column and makes an individual column for each value, with a `0` or `1` indicating whether that column is 'hot'.\n",
    "\n",
    "One thing we find is that note every value is in the test data. So that creates different shapes of our data frame. That's why we added some columns, filled them in and reorded them. We know they are all zeros because they aren't in the data."
   ]
  },
  {
   "cell_type": "markdown",
   "metadata": {
    "papermill": {
     "duration": 0.021315,
     "end_time": "2020-11-30T19:57:43.385443",
     "exception": false,
     "start_time": "2020-11-30T19:57:43.364128",
     "status": "completed"
    },
    "tags": []
   },
   "source": [
    "Now let's go ahead and set our classification targets. We'l do both training sets to start: binrary and multi classifications."
   ]
  },
  {
   "cell_type": "code",
   "execution_count": 16,
   "metadata": {
    "execution": {
     "iopub.execute_input": "2020-11-30T19:57:43.438945Z",
     "iopub.status.busy": "2020-11-30T19:57:43.438298Z",
     "iopub.status.idle": "2020-11-30T19:57:43.526208Z",
     "shell.execute_reply": "2020-11-30T19:57:43.525554Z"
    },
    "papermill": {
     "duration": 0.119212,
     "end_time": "2020-11-30T19:57:43.526320",
     "exception": false,
     "start_time": "2020-11-30T19:57:43.407108",
     "status": "completed"
    },
    "tags": []
   },
   "outputs": [],
   "source": [
    "# create our target classifications\n",
    "binary_y = df['attack_flag']\n",
    "multi_y = df['attack_map']\n",
    "\n",
    "test_binary_y = test_df['attack_flag']\n",
    "test_multi_y = test_df['attack_map']\n",
    "\n",
    "# build the training sets\n",
    "binary_train_X, binary_val_X, binary_train_y, binary_val_y = train_test_split(to_fit, binary_y, test_size=0.6)\n",
    "multi_train_X, multi_val_X, multi_train_y, multi_val_y = train_test_split(to_fit, multi_y, test_size = 0.6)"
   ]
  },
  {
   "cell_type": "code",
   "execution_count": 17,
   "metadata": {
    "execution": {
     "iopub.execute_input": "2020-11-30T19:57:43.575571Z",
     "iopub.status.busy": "2020-11-30T19:57:43.574914Z",
     "iopub.status.idle": "2020-11-30T19:57:43.613940Z",
     "shell.execute_reply": "2020-11-30T19:57:43.613451Z"
    },
    "papermill": {
     "duration": 0.065676,
     "end_time": "2020-11-30T19:57:43.614052",
     "exception": false,
     "start_time": "2020-11-30T19:57:43.548376",
     "status": "completed"
    },
    "tags": []
   },
   "outputs": [
    {
     "name": "stdout",
     "output_type": "stream",
     "text": [
      "<class 'pandas.core.frame.DataFrame'>\n",
      "Int64Index: 50388 entries, 125949 to 63270\n",
      "Data columns (total 87 columns):\n",
      " #   Column               Non-Null Count  Dtype\n",
      "---  ------               --------------  -----\n",
      " 0   protocol_type_icmp   50388 non-null  uint8\n",
      " 1   protocol_type_tcp    50388 non-null  uint8\n",
      " 2   protocol_type_udp    50388 non-null  uint8\n",
      " 3   service_IRC          50388 non-null  uint8\n",
      " 4   service_X11          50388 non-null  uint8\n",
      " 5   service_Z39_50       50388 non-null  uint8\n",
      " 6   service_aol          50388 non-null  uint8\n",
      " 7   service_auth         50388 non-null  uint8\n",
      " 8   service_bgp          50388 non-null  uint8\n",
      " 9   service_courier      50388 non-null  uint8\n",
      " 10  service_csnet_ns     50388 non-null  uint8\n",
      " 11  service_ctf          50388 non-null  uint8\n",
      " 12  service_daytime      50388 non-null  uint8\n",
      " 13  service_discard      50388 non-null  uint8\n",
      " 14  service_domain       50388 non-null  uint8\n",
      " 15  service_domain_u     50388 non-null  uint8\n",
      " 16  service_echo         50388 non-null  uint8\n",
      " 17  service_eco_i        50388 non-null  uint8\n",
      " 18  service_ecr_i        50388 non-null  uint8\n",
      " 19  service_efs          50388 non-null  uint8\n",
      " 20  service_exec         50388 non-null  uint8\n",
      " 21  service_finger       50388 non-null  uint8\n",
      " 22  service_ftp          50388 non-null  uint8\n",
      " 23  service_ftp_data     50388 non-null  uint8\n",
      " 24  service_gopher       50388 non-null  uint8\n",
      " 25  service_harvest      50388 non-null  uint8\n",
      " 26  service_hostnames    50388 non-null  uint8\n",
      " 27  service_http         50388 non-null  uint8\n",
      " 28  service_http_2784    50388 non-null  uint8\n",
      " 29  service_http_443     50388 non-null  uint8\n",
      " 30  service_http_8001    50388 non-null  uint8\n",
      " 31  service_imap4        50388 non-null  uint8\n",
      " 32  service_iso_tsap     50388 non-null  uint8\n",
      " 33  service_klogin       50388 non-null  uint8\n",
      " 34  service_kshell       50388 non-null  uint8\n",
      " 35  service_ldap         50388 non-null  uint8\n",
      " 36  service_link         50388 non-null  uint8\n",
      " 37  service_login        50388 non-null  uint8\n",
      " 38  service_mtp          50388 non-null  uint8\n",
      " 39  service_name         50388 non-null  uint8\n",
      " 40  service_netbios_dgm  50388 non-null  uint8\n",
      " 41  service_netbios_ns   50388 non-null  uint8\n",
      " 42  service_netbios_ssn  50388 non-null  uint8\n",
      " 43  service_netstat      50388 non-null  uint8\n",
      " 44  service_nnsp         50388 non-null  uint8\n",
      " 45  service_nntp         50388 non-null  uint8\n",
      " 46  service_ntp_u        50388 non-null  uint8\n",
      " 47  service_other        50388 non-null  uint8\n",
      " 48  service_pm_dump      50388 non-null  uint8\n",
      " 49  service_pop_2        50388 non-null  uint8\n",
      " 50  service_pop_3        50388 non-null  uint8\n",
      " 51  service_printer      50388 non-null  uint8\n",
      " 52  service_private      50388 non-null  uint8\n",
      " 53  service_red_i        50388 non-null  uint8\n",
      " 54  service_remote_job   50388 non-null  uint8\n",
      " 55  service_rje          50388 non-null  uint8\n",
      " 56  service_shell        50388 non-null  uint8\n",
      " 57  service_smtp         50388 non-null  uint8\n",
      " 58  service_sql_net      50388 non-null  uint8\n",
      " 59  service_ssh          50388 non-null  uint8\n",
      " 60  service_sunrpc       50388 non-null  uint8\n",
      " 61  service_supdup       50388 non-null  uint8\n",
      " 62  service_systat       50388 non-null  uint8\n",
      " 63  service_telnet       50388 non-null  uint8\n",
      " 64  service_tftp_u       50388 non-null  uint8\n",
      " 65  service_tim_i        50388 non-null  uint8\n",
      " 66  service_time         50388 non-null  uint8\n",
      " 67  service_urh_i        50388 non-null  uint8\n",
      " 68  service_urp_i        50388 non-null  uint8\n",
      " 69  service_uucp         50388 non-null  uint8\n",
      " 70  service_uucp_path    50388 non-null  uint8\n",
      " 71  service_vmnet        50388 non-null  uint8\n",
      " 72  service_whois        50388 non-null  uint8\n",
      " 73  flag_OTH             50388 non-null  uint8\n",
      " 74  flag_REJ             50388 non-null  uint8\n",
      " 75  flag_RSTO            50388 non-null  uint8\n",
      " 76  flag_RSTOS0          50388 non-null  uint8\n",
      " 77  flag_RSTR            50388 non-null  uint8\n",
      " 78  flag_S0              50388 non-null  uint8\n",
      " 79  flag_S1              50388 non-null  uint8\n",
      " 80  flag_S2              50388 non-null  uint8\n",
      " 81  flag_S3              50388 non-null  uint8\n",
      " 82  flag_SF              50388 non-null  uint8\n",
      " 83  flag_SH              50388 non-null  uint8\n",
      " 84  duration             50388 non-null  int64\n",
      " 85  src_bytes            50388 non-null  int64\n",
      " 86  dst_bytes            50388 non-null  int64\n",
      "dtypes: int64(3), uint8(84)\n",
      "memory usage: 5.6 MB\n"
     ]
    }
   ],
   "source": [
    "binary_train_X.info()"
   ]
  },
  {
   "cell_type": "code",
   "execution_count": 20,
   "metadata": {
    "execution": {
     "iopub.execute_input": "2020-11-30T19:57:43.680051Z",
     "iopub.status.busy": "2020-11-30T19:57:43.679418Z",
     "iopub.status.idle": "2020-11-30T19:57:43.684385Z",
     "shell.execute_reply": "2020-11-30T19:57:43.683829Z"
    },
    "papermill": {
     "duration": 0.047681,
     "end_time": "2020-11-30T19:57:43.684495",
     "exception": false,
     "start_time": "2020-11-30T19:57:43.636814",
     "status": "completed"
    },
    "tags": []
   },
   "outputs": [
    {
     "data": {
      "text/html": [
       "<div>\n",
       "<style scoped>\n",
       "    .dataframe tbody tr th:only-of-type {\n",
       "        vertical-align: middle;\n",
       "    }\n",
       "\n",
       "    .dataframe tbody tr th {\n",
       "        vertical-align: top;\n",
       "    }\n",
       "\n",
       "    .dataframe thead th {\n",
       "        text-align: right;\n",
       "    }\n",
       "</style>\n",
       "<table border=\"1\" class=\"dataframe\">\n",
       "  <thead>\n",
       "    <tr style=\"text-align: right;\">\n",
       "      <th></th>\n",
       "      <th>protocol_type_icmp</th>\n",
       "      <th>protocol_type_tcp</th>\n",
       "      <th>protocol_type_udp</th>\n",
       "      <th>service_IRC</th>\n",
       "      <th>service_X11</th>\n",
       "      <th>service_Z39_50</th>\n",
       "      <th>service_aol</th>\n",
       "      <th>service_auth</th>\n",
       "      <th>service_bgp</th>\n",
       "      <th>service_courier</th>\n",
       "      <th>...</th>\n",
       "      <th>flag_RSTR</th>\n",
       "      <th>flag_S0</th>\n",
       "      <th>flag_S1</th>\n",
       "      <th>flag_S2</th>\n",
       "      <th>flag_S3</th>\n",
       "      <th>flag_SF</th>\n",
       "      <th>flag_SH</th>\n",
       "      <th>duration</th>\n",
       "      <th>src_bytes</th>\n",
       "      <th>dst_bytes</th>\n",
       "    </tr>\n",
       "  </thead>\n",
       "  <tbody>\n",
       "    <tr>\n",
       "      <th>16841</th>\n",
       "      <td>1</td>\n",
       "      <td>0</td>\n",
       "      <td>0</td>\n",
       "      <td>0</td>\n",
       "      <td>0</td>\n",
       "      <td>0</td>\n",
       "      <td>0</td>\n",
       "      <td>0</td>\n",
       "      <td>0</td>\n",
       "      <td>0</td>\n",
       "      <td>...</td>\n",
       "      <td>0</td>\n",
       "      <td>0</td>\n",
       "      <td>0</td>\n",
       "      <td>0</td>\n",
       "      <td>0</td>\n",
       "      <td>1</td>\n",
       "      <td>0</td>\n",
       "      <td>0</td>\n",
       "      <td>8</td>\n",
       "      <td>0</td>\n",
       "    </tr>\n",
       "    <tr>\n",
       "      <th>116365</th>\n",
       "      <td>0</td>\n",
       "      <td>1</td>\n",
       "      <td>0</td>\n",
       "      <td>0</td>\n",
       "      <td>0</td>\n",
       "      <td>0</td>\n",
       "      <td>0</td>\n",
       "      <td>0</td>\n",
       "      <td>0</td>\n",
       "      <td>0</td>\n",
       "      <td>...</td>\n",
       "      <td>0</td>\n",
       "      <td>0</td>\n",
       "      <td>0</td>\n",
       "      <td>0</td>\n",
       "      <td>0</td>\n",
       "      <td>1</td>\n",
       "      <td>0</td>\n",
       "      <td>0</td>\n",
       "      <td>308</td>\n",
       "      <td>1248</td>\n",
       "    </tr>\n",
       "    <tr>\n",
       "      <th>77488</th>\n",
       "      <td>0</td>\n",
       "      <td>1</td>\n",
       "      <td>0</td>\n",
       "      <td>0</td>\n",
       "      <td>0</td>\n",
       "      <td>0</td>\n",
       "      <td>0</td>\n",
       "      <td>0</td>\n",
       "      <td>0</td>\n",
       "      <td>0</td>\n",
       "      <td>...</td>\n",
       "      <td>0</td>\n",
       "      <td>0</td>\n",
       "      <td>0</td>\n",
       "      <td>0</td>\n",
       "      <td>0</td>\n",
       "      <td>1</td>\n",
       "      <td>0</td>\n",
       "      <td>0</td>\n",
       "      <td>355</td>\n",
       "      <td>327</td>\n",
       "    </tr>\n",
       "    <tr>\n",
       "      <th>120109</th>\n",
       "      <td>0</td>\n",
       "      <td>1</td>\n",
       "      <td>0</td>\n",
       "      <td>0</td>\n",
       "      <td>0</td>\n",
       "      <td>0</td>\n",
       "      <td>0</td>\n",
       "      <td>0</td>\n",
       "      <td>0</td>\n",
       "      <td>0</td>\n",
       "      <td>...</td>\n",
       "      <td>0</td>\n",
       "      <td>0</td>\n",
       "      <td>0</td>\n",
       "      <td>0</td>\n",
       "      <td>0</td>\n",
       "      <td>1</td>\n",
       "      <td>0</td>\n",
       "      <td>400</td>\n",
       "      <td>335</td>\n",
       "      <td>10183</td>\n",
       "    </tr>\n",
       "    <tr>\n",
       "      <th>44267</th>\n",
       "      <td>0</td>\n",
       "      <td>0</td>\n",
       "      <td>1</td>\n",
       "      <td>0</td>\n",
       "      <td>0</td>\n",
       "      <td>0</td>\n",
       "      <td>0</td>\n",
       "      <td>0</td>\n",
       "      <td>0</td>\n",
       "      <td>0</td>\n",
       "      <td>...</td>\n",
       "      <td>0</td>\n",
       "      <td>0</td>\n",
       "      <td>0</td>\n",
       "      <td>0</td>\n",
       "      <td>0</td>\n",
       "      <td>1</td>\n",
       "      <td>0</td>\n",
       "      <td>0</td>\n",
       "      <td>516</td>\n",
       "      <td>4</td>\n",
       "    </tr>\n",
       "  </tbody>\n",
       "</table>\n",
       "<p>5 rows × 87 columns</p>\n",
       "</div>"
      ],
      "text/plain": [
       "        protocol_type_icmp  protocol_type_tcp  protocol_type_udp  service_IRC  \\\n",
       "16841                    1                  0                  0            0   \n",
       "116365                   0                  1                  0            0   \n",
       "77488                    0                  1                  0            0   \n",
       "120109                   0                  1                  0            0   \n",
       "44267                    0                  0                  1            0   \n",
       "\n",
       "        service_X11  service_Z39_50  service_aol  service_auth  service_bgp  \\\n",
       "16841             0               0            0             0            0   \n",
       "116365            0               0            0             0            0   \n",
       "77488             0               0            0             0            0   \n",
       "120109            0               0            0             0            0   \n",
       "44267             0               0            0             0            0   \n",
       "\n",
       "        service_courier  ...  flag_RSTR  flag_S0  flag_S1  flag_S2  flag_S3  \\\n",
       "16841                 0  ...          0        0        0        0        0   \n",
       "116365                0  ...          0        0        0        0        0   \n",
       "77488                 0  ...          0        0        0        0        0   \n",
       "120109                0  ...          0        0        0        0        0   \n",
       "44267                 0  ...          0        0        0        0        0   \n",
       "\n",
       "        flag_SF  flag_SH  duration  src_bytes  dst_bytes  \n",
       "16841         1        0         0          8          0  \n",
       "116365        1        0         0        308       1248  \n",
       "77488         1        0         0        355        327  \n",
       "120109        1        0       400        335      10183  \n",
       "44267         1        0         0        516          4  \n",
       "\n",
       "[5 rows x 87 columns]"
      ]
     },
     "execution_count": 20,
     "metadata": {},
     "output_type": "execute_result"
    }
   ],
   "source": [
    "binary_train_X.sample(5)"
   ]
  },
  {
   "cell_type": "code",
   "execution_count": null,
   "metadata": {
    "papermill": {
     "duration": 0.022827,
     "end_time": "2020-11-30T19:57:43.730806",
     "exception": false,
     "start_time": "2020-11-30T19:57:43.707979",
     "status": "completed"
    },
    "tags": []
   },
   "outputs": [],
   "source": []
  },
  {
   "cell_type": "markdown",
   "metadata": {
    "papermill": {
     "duration": 0.022762,
     "end_time": "2020-11-30T19:57:43.776691",
     "exception": false,
     "start_time": "2020-11-30T19:57:43.753929",
     "status": "completed"
    },
    "tags": []
   },
   "source": [
    "# Model fitting\n",
    "Based on the nature of the data we saw above, decision trees are a good starting point for building out predictive models. In this case we'll use a random forest to build and combine multiple trees. We'll start by simply taking the defaults."
   ]
  },
  {
   "cell_type": "code",
   "execution_count": null,
   "metadata": {
    "execution": {
     "iopub.execute_input": "2020-11-30T19:57:43.831557Z",
     "iopub.status.busy": "2020-11-30T19:57:43.830892Z",
     "iopub.status.idle": "2020-11-30T19:57:49.874265Z",
     "shell.execute_reply": "2020-11-30T19:57:49.873612Z"
    },
    "papermill": {
     "duration": 6.074187,
     "end_time": "2020-11-30T19:57:49.874380",
     "exception": false,
     "start_time": "2020-11-30T19:57:43.800193",
     "status": "completed"
    },
    "tags": []
   },
   "outputs": [
    {
     "data": {
      "text/plain": [
       "0.9928027095681625"
      ]
     },
     "execution_count": 21,
     "metadata": {},
     "output_type": "execute_result"
    }
   ],
   "source": [
    "# model for the binary classification\n",
    "binary_model = RandomForestClassifier()\n",
    "binary_model.fit(binary_train_X, binary_train_y)\n",
    "binary_predictions = binary_model.predict(binary_val_X)\n",
    "\n",
    "# calculate and display our base accuracty\n",
    "base_rf_score = accuracy_score(binary_predictions,binary_val_y)\n",
    "base_rf_score"
   ]
  },
  {
   "cell_type": "markdown",
   "metadata": {
    "papermill": {
     "duration": 0.023274,
     "end_time": "2020-11-30T19:57:49.921601",
     "exception": false,
     "start_time": "2020-11-30T19:57:49.898327",
     "status": "completed"
    },
    "tags": []
   },
   "source": [
    "99% accuracy on our first try! Not bad, right? Let's see how it plays out. \n",
    "\n",
    "It might be interesting to see how differnt models compare against a data set like this. That is easy enought to do with `cross_val_score`. "
   ]
  },
  {
   "cell_type": "code",
   "execution_count": 18,
   "metadata": {
    "execution": {
     "iopub.execute_input": "2020-11-30T19:57:49.977021Z",
     "iopub.status.busy": "2020-11-30T19:57:49.976394Z",
     "iopub.status.idle": "2020-11-30T19:59:10.220403Z",
     "shell.execute_reply": "2020-11-30T19:59:10.219833Z"
    },
    "papermill": {
     "duration": 80.275232,
     "end_time": "2020-11-30T19:59:10.220541",
     "exception": false,
     "start_time": "2020-11-30T19:57:49.945309",
     "status": "completed"
    },
    "tags": []
   },
   "outputs": [
    {
     "name": "stderr",
     "output_type": "stream",
     "text": [
      "/home/furkan/instrusion_detector_learning/myenv/lib/python3.8/site-packages/sklearn/neighbors/_classification.py:211: FutureWarning: Unlike other reduction functions (e.g. `skew`, `kurtosis`), the default behavior of `mode` typically preserves the axis it acts along. In SciPy 1.11.0, this behavior will change: the default value of `keepdims` will become False, the `axis` over which the statistic is taken will be eliminated, and the value None will no longer be accepted. Set `keepdims` to True or False to avoid this warning.\n",
      "  mode, _ = stats.mode(_y[neigh_ind, k], axis=1)\n",
      "/home/furkan/instrusion_detector_learning/myenv/lib/python3.8/site-packages/sklearn/neighbors/_classification.py:211: FutureWarning: Unlike other reduction functions (e.g. `skew`, `kurtosis`), the default behavior of `mode` typically preserves the axis it acts along. In SciPy 1.11.0, this behavior will change: the default value of `keepdims` will become False, the `axis` over which the statistic is taken will be eliminated, and the value None will no longer be accepted. Set `keepdims` to True or False to avoid this warning.\n",
      "  mode, _ = stats.mode(_y[neigh_ind, k], axis=1)\n",
      "/home/furkan/instrusion_detector_learning/myenv/lib/python3.8/site-packages/sklearn/neighbors/_classification.py:211: FutureWarning: Unlike other reduction functions (e.g. `skew`, `kurtosis`), the default behavior of `mode` typically preserves the axis it acts along. In SciPy 1.11.0, this behavior will change: the default value of `keepdims` will become False, the `axis` over which the statistic is taken will be eliminated, and the value None will no longer be accepted. Set `keepdims` to True or False to avoid this warning.\n",
      "  mode, _ = stats.mode(_y[neigh_ind, k], axis=1)\n",
      "/home/furkan/instrusion_detector_learning/myenv/lib/python3.8/site-packages/sklearn/neighbors/_classification.py:211: FutureWarning: Unlike other reduction functions (e.g. `skew`, `kurtosis`), the default behavior of `mode` typically preserves the axis it acts along. In SciPy 1.11.0, this behavior will change: the default value of `keepdims` will become False, the `axis` over which the statistic is taken will be eliminated, and the value None will no longer be accepted. Set `keepdims` to True or False to avoid this warning.\n",
      "  mode, _ = stats.mode(_y[neigh_ind, k], axis=1)\n",
      "/home/furkan/instrusion_detector_learning/myenv/lib/python3.8/site-packages/sklearn/neighbors/_classification.py:211: FutureWarning: Unlike other reduction functions (e.g. `skew`, `kurtosis`), the default behavior of `mode` typically preserves the axis it acts along. In SciPy 1.11.0, this behavior will change: the default value of `keepdims` will become False, the `axis` over which the statistic is taken will be eliminated, and the value None will no longer be accepted. Set `keepdims` to True or False to avoid this warning.\n",
      "  mode, _ = stats.mode(_y[neigh_ind, k], axis=1)\n"
     ]
    }
   ],
   "source": [
    "# define the list of models that we want to test\n",
    "models = [\n",
    "    RandomForestClassifier(),\n",
    "    LogisticRegression(max_iter=250),\n",
    "    KNeighborsClassifier(),\n",
    "]\n",
    "\n",
    "# an empty list to capture the performance of each model\n",
    "model_comps = []\n",
    "\n",
    "# walk through the models and populate our list\n",
    "for model in models:\n",
    "    model_name = model.__class__.__name__\n",
    "    accuracies = cross_val_score(model, binary_train_X, binary_train_y, scoring='accuracy')\n",
    "    for count, accuracy in enumerate(accuracies):\n",
    "        model_comps.append((model_name, count, accuracy))"
   ]
  },
  {
   "cell_type": "code",
   "execution_count": 23,
   "metadata": {
    "execution": {
     "iopub.execute_input": "2020-11-30T19:59:10.281704Z",
     "iopub.status.busy": "2020-11-30T19:59:10.280905Z",
     "iopub.status.idle": "2020-11-30T19:59:10.462039Z",
     "shell.execute_reply": "2020-11-30T19:59:10.461480Z"
    },
    "papermill": {
     "duration": 0.216539,
     "end_time": "2020-11-30T19:59:10.462172",
     "exception": false,
     "start_time": "2020-11-30T19:59:10.245633",
     "status": "completed"
    },
    "tags": []
   },
   "outputs": [
    {
     "data": {
      "text/plain": [
       "<AxesSubplot:>"
      ]
     },
     "execution_count": 23,
     "metadata": {},
     "output_type": "execute_result"
    },
    {
     "data": {
      "image/png": "[encoded data removed]",
      "text/plain": [
       "<Figure size 640x480 with 1 Axes>"
      ]
     },
     "metadata": {},
     "output_type": "display_data"
    }
   ],
   "source": [
    "# a box plot will do well to show us overall performance and the variation in the models.\n",
    "result_df = pd.DataFrame(model_comps, columns=['model_name', 'count', 'accuracy'])\n",
    "result_df.pivot(index='count',columns='model_name',values='accuracy').boxplot(rot=45)"
   ]
  },
  {
   "cell_type": "markdown",
   "metadata": {
    "papermill": {
     "duration": 0.024874,
     "end_time": "2020-11-30T19:59:10.512209",
     "exception": false,
     "start_time": "2020-11-30T19:59:10.487335",
     "status": "completed"
    },
    "tags": []
   },
   "source": [
    "What we find is some inconsistency across the models. The random forest and K-nearest neighbors are tight groupings with solid performance. Our logistic regression didn't perform as well. That may be in  part because we didn't do sufficient preprocessing on our data to shape it into a form optimized for that model. That too is an exercise for another day."
   ]
  },
  {
   "cell_type": "code",
   "execution_count": 24,
   "metadata": {
    "execution": {
     "iopub.execute_input": "2020-11-30T19:59:10.569917Z",
     "iopub.status.busy": "2020-11-30T19:59:10.569255Z",
     "iopub.status.idle": "2020-11-30T19:59:17.437812Z",
     "shell.execute_reply": "2020-11-30T19:59:17.437172Z"
    },
    "papermill": {
     "duration": 6.900752,
     "end_time": "2020-11-30T19:59:17.437925",
     "exception": false,
     "start_time": "2020-11-30T19:59:10.537173",
     "status": "completed"
    },
    "tags": []
   },
   "outputs": [
    {
     "data": {
      "text/plain": [
       "0.9764235817104149"
      ]
     },
     "execution_count": 24,
     "metadata": {},
     "output_type": "execute_result"
    }
   ],
   "source": [
    "# model for the mulit classification\n",
    "multi_model = RandomForestClassifier()\n",
    "multi_model.fit(multi_train_X, multi_train_y)\n",
    "multi_predictions = multi_model.predict(multi_val_X)\n",
    "\n",
    "# get the score\n",
    "accuracy_score(multi_predictions,multi_val_y)"
   ]
  }
 ],
 "metadata": {
  "kernelspec": {
   "display_name": "myenv",
   "language": "python",
   "name": "python3"
  },
  "language_info": {
   "codemirror_mode": {
    "name": "ipython",
    "version": 3
   },
   "file_extension": ".py",
   "mimetype": "text/x-python",
   "name": "python",
   "nbconvert_exporter": "python",
   "pygments_lexer": "ipython3",
   "version": "3.8.10"
  },
  "papermill": {
   "duration": 101.384954,
   "end_time": "2020-11-30T19:59:17.571044",
   "environment_variables": {},
   "exception": null,
   "input_path": "__notebook__.ipynb",
   "output_path": "__notebook__.ipynb",
   "parameters": {},
   "start_time": "2020-11-30T19:57:36.186090",
   "version": "2.1.0"
  }
 },
 "nbformat": 4,
 "nbformat_minor": 4
}
